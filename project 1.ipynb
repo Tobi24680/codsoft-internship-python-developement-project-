{
 "cells": [
  {
   "cell_type": "markdown",
   "id": "7a3b4bd9-d2b2-481e-afb1-c53a19d71c15",
   "metadata": {},
   "source": [
    "TO DO LIST PROJECT"
   ]
  },
  {
   "cell_type": "code",
   "execution_count": 1,
   "id": "af0f387c-50af-4b6a-84f0-3b796f152586",
   "metadata": {},
   "outputs": [
    {
     "name": "stdout",
     "output_type": "stream",
     "text": [
      "WELCOME TO THE TO-DO LIST....\n",
      "\n",
      "\n",
      "1.Add a task\n",
      "2.Del a  task\n",
      "3.View\n",
      "4.Exit\n"
     ]
    },
    {
     "name": "stdin",
     "output_type": "stream",
     "text": [
      "ENTER A  NUMBER TO DONE FOR: 1\n",
      "ENTER A TASK TO  DONE: brush\n"
     ]
    },
    {
     "name": "stdout",
     "output_type": "stream",
     "text": [
      "brush ADDED...\n",
      "\n",
      "\n",
      "1.Add a task\n",
      "2.Del a  task\n",
      "3.View\n",
      "4.Exit\n"
     ]
    },
    {
     "name": "stdin",
     "output_type": "stream",
     "text": [
      "ENTER A  NUMBER TO DONE FOR: 1\n",
      "ENTER A TASK TO  DONE: bath\n"
     ]
    },
    {
     "name": "stdout",
     "output_type": "stream",
     "text": [
      "bath ADDED...\n",
      "\n",
      "\n",
      "1.Add a task\n",
      "2.Del a  task\n",
      "3.View\n",
      "4.Exit\n"
     ]
    },
    {
     "name": "stdin",
     "output_type": "stream",
     "text": [
      "ENTER A  NUMBER TO DONE FOR: 1\n",
      "ENTER A TASK TO  DONE: dressing\n"
     ]
    },
    {
     "name": "stdout",
     "output_type": "stream",
     "text": [
      "dressing ADDED...\n",
      "\n",
      "\n",
      "1.Add a task\n",
      "2.Del a  task\n",
      "3.View\n",
      "4.Exit\n"
     ]
    },
    {
     "name": "stdin",
     "output_type": "stream",
     "text": [
      "ENTER A  NUMBER TO DONE FOR: 3\n"
     ]
    },
    {
     "name": "stdout",
     "output_type": "stream",
     "text": [
      "task 0 - brush\n",
      "task 1 - bath\n",
      "task 2 - dressing\n",
      "\n",
      "\n",
      "1.Add a task\n",
      "2.Del a  task\n",
      "3.View\n",
      "4.Exit\n"
     ]
    },
    {
     "name": "stdin",
     "output_type": "stream",
     "text": [
      "ENTER A  NUMBER TO DONE FOR: 2\n"
     ]
    },
    {
     "name": "stdout",
     "output_type": "stream",
     "text": [
      "task 0 - brush\n",
      "task 1 - bath\n",
      "task 2 - dressing\n"
     ]
    },
    {
     "name": "stdin",
     "output_type": "stream",
     "text": [
      "ENTERA TASK TO DELETE: 0\n"
     ]
    },
    {
     "name": "stdout",
     "output_type": "stream",
     "text": [
      "TASK DELETED SUCCEFULLY...\n",
      "\n",
      "\n",
      "1.Add a task\n",
      "2.Del a  task\n",
      "3.View\n",
      "4.Exit\n"
     ]
    },
    {
     "name": "stdin",
     "output_type": "stream",
     "text": [
      "ENTER A  NUMBER TO DONE FOR: 1\n",
      "ENTER A TASK TO  DONE: walk\n"
     ]
    },
    {
     "name": "stdout",
     "output_type": "stream",
     "text": [
      "walk ADDED...\n",
      "\n",
      "\n",
      "1.Add a task\n",
      "2.Del a  task\n",
      "3.View\n",
      "4.Exit\n"
     ]
    },
    {
     "name": "stdin",
     "output_type": "stream",
     "text": [
      "ENTER A  NUMBER TO DONE FOR: 3\n"
     ]
    },
    {
     "name": "stdout",
     "output_type": "stream",
     "text": [
      "task 0 - bath\n",
      "task 1 - dressing\n",
      "task 2 - walk\n",
      "\n",
      "\n",
      "1.Add a task\n",
      "2.Del a  task\n",
      "3.View\n",
      "4.Exit\n"
     ]
    },
    {
     "name": "stdin",
     "output_type": "stream",
     "text": [
      "ENTER A  NUMBER TO DONE FOR: 4\n"
     ]
    },
    {
     "name": "stdout",
     "output_type": "stream",
     "text": [
      "THANK YOU VISIT AGAIN.....\n"
     ]
    }
   ],
   "source": [
    "tasks=[]\n",
    "\n",
    "def add():\n",
    "    task=input(\"ENTER A TASK TO  DONE:\")\n",
    "    tasks.append(task)\n",
    "    print(f\"{task} ADDED...\")\n",
    "\n",
    "def delete():\n",
    "    list()\n",
    "    tasktodel=int(input(\"ENTERA TASK TO DELETE:\"))\n",
    "    if tasktodel>len(tasks):\n",
    "        print(\"CAN'T DELETE THIS TASK\")\n",
    "    else:\n",
    "        tasks.pop(tasktodel)\n",
    "        print(\"TASK DELETED SUCCEFULLY...\")\n",
    "\n",
    "def list():\n",
    "    if not tasks:\n",
    "        print(\"THERE IS NO TASK TO SHOW...\")\n",
    "    else:\n",
    "        for i,task in enumerate(tasks):\n",
    "            print(f\"task {i} - {task}\")\n",
    "\n",
    "if __name__==\"__main__\":\n",
    "    print(\"WELCOME TO THE TO-DO LIST....\")\n",
    "    while True:\n",
    "        print(\"\\n\")\n",
    "        print(\"1.Add a task\")\n",
    "        print(\"2.Del a  task\")\n",
    "        print(\"3.View\")\n",
    "        print(\"4.Exit\")\n",
    "        choice=int(input(\"ENTER A  NUMBER TO DONE FOR:\"))\n",
    "        if choice==1:\n",
    "            add()\n",
    "\n",
    "        elif choice==2:\n",
    "            delete()\n",
    "\n",
    "        elif choice==3:\n",
    "            list()\n",
    "            \n",
    "        elif choice==4:\n",
    "            break\n",
    "            \n",
    "        else:\n",
    "           print(\"sorry\")\n",
    "print(\"THANK YOU VISIT AGAIN.....\")        "
   ]
  },
  {
   "cell_type": "code",
   "execution_count": null,
   "id": "7ebb8568-e152-482e-bf4e-179554660b96",
   "metadata": {},
   "outputs": [],
   "source": []
  }
 ],
 "metadata": {
  "kernelspec": {
   "display_name": "Python 3 (ipykernel)",
   "language": "python",
   "name": "python3"
  },
  "language_info": {
   "codemirror_mode": {
    "name": "ipython",
    "version": 3
   },
   "file_extension": ".py",
   "mimetype": "text/x-python",
   "name": "python",
   "nbconvert_exporter": "python",
   "pygments_lexer": "ipython3",
   "version": "3.12.4"
  }
 },
 "nbformat": 4,
 "nbformat_minor": 5
}
