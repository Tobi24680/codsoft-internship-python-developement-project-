{
 "cells": [
  {
   "cell_type": "markdown",
   "id": "54ec87ce-72ba-4750-bc1a-487718dd21e6",
   "metadata": {},
   "source": [
    "CONTACT BOOK"
   ]
  },
  {
   "cell_type": "code",
   "execution_count": 7,
   "id": "8a420df8-cd60-4dd8-b254-e2a4eb4c073f",
   "metadata": {},
   "outputs": [
    {
     "name": "stdout",
     "output_type": "stream",
     "text": [
      "1.add\n",
      "2.del\n",
      "3.update\n",
      "4.view\n",
      "5.search\n",
      "6.exit\n"
     ]
    },
    {
     "name": "stdin",
     "output_type": "stream",
     "text": [
      "enter your choice: 1\n",
      "enter the contact name: a\n",
      "enter the phone number: 3\n",
      "enter the adress re\n"
     ]
    },
    {
     "name": "stdout",
     "output_type": "stream",
     "text": [
      "1.add\n",
      "2.del\n",
      "3.update\n",
      "4.view\n",
      "5.search\n",
      "6.exit\n"
     ]
    },
    {
     "name": "stdin",
     "output_type": "stream",
     "text": [
      "enter your choice: 4\n"
     ]
    },
    {
     "name": "stdout",
     "output_type": "stream",
     "text": [
      "the all contacts\n",
      "f,5\n",
      "k,7\n",
      "a,('3', 're')\n",
      "1.add\n",
      "2.del\n",
      "3.update\n",
      "4.view\n",
      "5.search\n",
      "6.exit\n"
     ]
    },
    {
     "name": "stdin",
     "output_type": "stream",
     "text": [
      "enter your choice: 6\n"
     ]
    }
   ],
   "source": [
    "contact={}\n",
    "\n",
    "def display():\n",
    "    print(\"\\n\\n\")\n",
    "    print('the all contacts')\n",
    "    for key in contact:\n",
    "        print(f\"{key},{contact.get(key)}\")\n",
    "        \n",
    "\n",
    "while True:\n",
    "    print(\"1.add\")\n",
    "    print(\"2.del\")\n",
    "    print(\"3.update\")\n",
    "    print(\"4.view\")\n",
    "    print(\"5.search\")\n",
    "    print(\"6.exit\")\n",
    "    \n",
    "    c=int(input(\"enter your choice:\"))\n",
    "    if c==1:\n",
    "        name=input(\"enter the contact name:\")\n",
    "        ph=input(\"enter the phone number:\")\n",
    "        adress=input('enter the adress:')\n",
    "        email=input('enter the email:')\n",
    "        contact[name]=ph,adress\n",
    "    elif c==2:\n",
    "        dc=input('\\nenter a contact to delete')\n",
    "        contact.pop(dc)\n",
    "    elif  c==3:\n",
    "        edit=input('\\nenter the contact to update:')\n",
    "        ph=input('enter new phone number:')\n",
    "        contact[edit]=ph\n",
    "        print('updated sussecfully...\\n')\n",
    "        \n",
    "    elif c==4:\n",
    "        display()\n",
    "        \n",
    "    elif c==5:\n",
    "        search_name=input('enter a name:')\n",
    "        if search_name in contact:\n",
    "            print(search_name,\"the contact details..\",contact[search_name])\n",
    "        else:\n",
    "            print('not found')\n",
    "    elif c==6:\n",
    "        break\n",
    "\n",
    "    else:\n",
    "        print('invalid input')\n",
    "    \n",
    "        "
   ]
  },
  {
   "cell_type": "code",
   "execution_count": null,
   "id": "2fa8f3c4-1f52-457f-9942-2912f666f7b9",
   "metadata": {},
   "outputs": [],
   "source": []
  }
 ],
 "metadata": {
  "kernelspec": {
   "display_name": "Python 3 (ipykernel)",
   "language": "python",
   "name": "python3"
  },
  "language_info": {
   "codemirror_mode": {
    "name": "ipython",
    "version": 3
   },
   "file_extension": ".py",
   "mimetype": "text/x-python",
   "name": "python",
   "nbconvert_exporter": "python",
   "pygments_lexer": "ipython3",
   "version": "3.12.4"
  }
 },
 "nbformat": 4,
 "nbformat_minor": 5
}
