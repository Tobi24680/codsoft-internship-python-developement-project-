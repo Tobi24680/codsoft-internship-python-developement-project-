{
 "cells": [
  {
   "cell_type": "code",
   "execution_count": null,
   "id": "1c555e6c-c768-4d36-a27d-ae165b4c70f2",
   "metadata": {},
   "outputs": [],
   "source": []
  },
  {
   "cell_type": "code",
   "execution_count": 2,
   "id": "f83e7616-ff8a-43a5-91e3-4d992bf3ab50",
   "metadata": {},
   "outputs": [
    {
     "name": "stdout",
     "output_type": "stream",
     "text": [
      "...password genarator...\n"
     ]
    },
    {
     "name": "stdin",
     "output_type": "stream",
     "text": [
      "enter a lenght of password: 12\n"
     ]
    },
    {
     "name": "stdout",
     "output_type": "stream",
     "text": [
      "the password : jIphR@8tK!lM\n"
     ]
    }
   ],
   "source": [
    "import random\n",
    "\n",
    "def password(len):\n",
    "    letters='wertyuioplkjhgfdsazxcvbnmQWERTYUIOPLKJHGFDSAZXCVBNM'\n",
    "    numbers='1234567890'\n",
    "    symbols='!@#$%^&*()'\n",
    "    all=letters+numbers+symbols\n",
    "    pas=''.join(random.sample(all,len))\n",
    "    return pas\n",
    "\n",
    "if __name__==\"__main__\":\n",
    "    print(\"...password genarator...\")\n",
    "    len=int(input(\"enter a lenght of password:\"))\n",
    "    print(\"the password :\",password(len))\n",
    "    \n",
    "\n",
    "\n",
    "    "
   ]
  },
  {
   "cell_type": "code",
   "execution_count": null,
   "id": "84a19218-b5d6-477b-8b48-8deedfd3e63c",
   "metadata": {},
   "outputs": [],
   "source": []
  }
 ],
 "metadata": {
  "kernelspec": {
   "display_name": "Python 3 (ipykernel)",
   "language": "python",
   "name": "python3"
  },
  "language_info": {
   "codemirror_mode": {
    "name": "ipython",
    "version": 3
   },
   "file_extension": ".py",
   "mimetype": "text/x-python",
   "name": "python",
   "nbconvert_exporter": "python",
   "pygments_lexer": "ipython3",
   "version": "3.12.4"
  }
 },
 "nbformat": 4,
 "nbformat_minor": 5
}
