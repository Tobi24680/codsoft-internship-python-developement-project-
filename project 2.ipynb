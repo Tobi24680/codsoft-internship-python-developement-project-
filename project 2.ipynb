{
 "cells": [
  {
   "cell_type": "code",
   "execution_count": null,
   "id": "e85d8ccd-0773-4634-a8d8-1a92ba694022",
   "metadata": {},
   "outputs": [],
   "source": [
    "CALCULATOR"
   ]
  },
  {
   "cell_type": "code",
   "execution_count": 6,
   "id": "6579b24d-37bd-439d-ba06-033aa8023d91",
   "metadata": {},
   "outputs": [
    {
     "name": "stdout",
     "output_type": "stream",
     "text": [
      "....calculator....\n",
      "\n"
     ]
    },
    {
     "name": "stdin",
     "output_type": "stream",
     "text": [
      "ENTER A VALUE FOR a: 2\n",
      "ENTER A VALE FOR b: 4\n"
     ]
    },
    {
     "name": "stdout",
     "output_type": "stream",
     "text": [
      "\n",
      "\n",
      "1.Add\n",
      "2.Sub\n",
      "3.Multiply\n",
      "4.Divide\n",
      "5.Exponential\n",
      "6.Exit\n"
     ]
    },
    {
     "name": "stdin",
     "output_type": "stream",
     "text": [
      "ENTER THE CHOICE FOR CALCLATE: 1\n"
     ]
    },
    {
     "name": "stdout",
     "output_type": "stream",
     "text": [
      "ans: 6\n",
      "\n",
      "\n",
      "1.Add\n",
      "2.Sub\n",
      "3.Multiply\n",
      "4.Divide\n",
      "5.Exponential\n",
      "6.Exit\n"
     ]
    },
    {
     "name": "stdin",
     "output_type": "stream",
     "text": [
      "ENTER THE CHOICE FOR CALCLATE: 2\n"
     ]
    },
    {
     "name": "stdout",
     "output_type": "stream",
     "text": [
      "ans: -2\n",
      "\n",
      "\n",
      "1.Add\n",
      "2.Sub\n",
      "3.Multiply\n",
      "4.Divide\n",
      "5.Exponential\n",
      "6.Exit\n"
     ]
    },
    {
     "name": "stdin",
     "output_type": "stream",
     "text": [
      "ENTER THE CHOICE FOR CALCLATE: 3\n"
     ]
    },
    {
     "name": "stdout",
     "output_type": "stream",
     "text": [
      "ans: 8\n",
      "\n",
      "\n",
      "1.Add\n",
      "2.Sub\n",
      "3.Multiply\n",
      "4.Divide\n",
      "5.Exponential\n",
      "6.Exit\n"
     ]
    },
    {
     "name": "stdin",
     "output_type": "stream",
     "text": [
      "ENTER THE CHOICE FOR CALCLATE: 4\n"
     ]
    },
    {
     "name": "stdout",
     "output_type": "stream",
     "text": [
      "ans: 0.5\n",
      "\n",
      "\n",
      "1.Add\n",
      "2.Sub\n",
      "3.Multiply\n",
      "4.Divide\n",
      "5.Exponential\n",
      "6.Exit\n"
     ]
    },
    {
     "name": "stdin",
     "output_type": "stream",
     "text": [
      "ENTER THE CHOICE FOR CALCLATE: 6\n"
     ]
    },
    {
     "name": "stdout",
     "output_type": "stream",
     "text": [
      "visit again...\n"
     ]
    }
   ],
   "source": [
    "def add(a,b):\n",
    "    print(\"\\nans:\",a+b)\n",
    "\n",
    "def sub(a,b):\n",
    "    print(\"\\nans:\",a-b)\n",
    "\n",
    "def multiply(a,b):\n",
    "    print(\"\\nans:\",a*b)\n",
    "\n",
    "def divide(a,b):\n",
    "    print(\"\\nans:\",a/b)\n",
    "\n",
    "def  exp(a,b):\n",
    "    print('\\nansS:',a**b)\n",
    "\n",
    "\n",
    "def values():\n",
    "   global a\n",
    "   a=int(input(\"ENTER A VALUE FOR a:\"))\n",
    "   global b\n",
    "   b=int(input(\"ENTER A VALE FOR b:\"))\n",
    "\n",
    "if __name__==\"__main__\":\n",
    "    print(\"....calculator....\\n\")\n",
    "    values()\n",
    "    while True:\n",
    "        print(\"\\n\")\n",
    "        print(\"1.Add\")\n",
    "        print(\"2.Sub\")\n",
    "        print(\"3.Multiply\")\n",
    "        print(\"4.Divide\")\n",
    "        print(\"5.Exponential\")\n",
    "        print(\"6.Exit\")\n",
    "\n",
    "        c=int(input(\"ENTER THE CHOICE FOR CALCLATE:\"))\n",
    "        if c==1:\n",
    "            add(a,b)\n",
    "        elif c==2:\n",
    "            sub(a,b)\n",
    "        elif c==3:\n",
    "            multiply(a,b)\n",
    "        elif c==4:\n",
    "            divide(a,b)\n",
    "        elif c==5:\n",
    "            exp(a,b)\n",
    "        elif c==6:\n",
    "            break\n",
    "        else:\n",
    "            print(\"INVALIDE INPUT TRY AGAIN\")\n",
    "\n",
    "print(\"visit again...\")"
   ]
  },
  {
   "cell_type": "code",
   "execution_count": null,
   "id": "f15c59d1-8d64-40f3-8cfa-f1919d124549",
   "metadata": {},
   "outputs": [],
   "source": []
  }
 ],
 "metadata": {
  "kernelspec": {
   "display_name": "Python 3 (ipykernel)",
   "language": "python",
   "name": "python3"
  },
  "language_info": {
   "codemirror_mode": {
    "name": "ipython",
    "version": 3
   },
   "file_extension": ".py",
   "mimetype": "text/x-python",
   "name": "python",
   "nbconvert_exporter": "python",
   "pygments_lexer": "ipython3",
   "version": "3.12.4"
  }
 },
 "nbformat": 4,
 "nbformat_minor": 5
}
